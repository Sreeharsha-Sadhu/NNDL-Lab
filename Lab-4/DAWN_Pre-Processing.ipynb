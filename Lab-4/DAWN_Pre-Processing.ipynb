{
 "cells": [
  {
   "cell_type": "code",
   "id": "initial_id",
   "metadata": {
    "collapsed": true,
    "ExecuteTime": {
     "end_time": "2025-02-14T10:01:01.268556Z",
     "start_time": "2025-02-14T10:01:00.847615Z"
    }
   },
   "source": [
    "import os\n",
    "import shutil\n",
    "import random\n",
    "from pathlib import Path\n",
    "\n",
    "# Define paths\n",
    "original_dataset = Path(\"./DAWN\")\n",
    "processed_dataset = Path(\"../data/DAWN_processed\")\n",
    "\n",
    "# Create train, val, test directories\n",
    "for split in [\"train\", \"val\", \"test\"]:\n",
    "    for category in [\"Fog\", \"Rain\", \"Sand\", \"Snow\"]:\n",
    "        (processed_dataset / split / category).mkdir(parents=True, exist_ok=True)\n",
    "\n",
    "# Split ratios\n",
    "train_ratio, val_ratio, test_ratio = 0.7, 0.2, 0.1\n",
    "\n",
    "# Organize dataset\n",
    "def split_and_copy():\n",
    "    for category in [\"Fog\", \"Rain\", \"Sand\", \"Snow\"]:\n",
    "        images = list((original_dataset / category).glob(\"*.jpg\"))  # Adjust extension if needed\n",
    "        random.shuffle(images)\n",
    "\n",
    "        train_count = int(len(images) * train_ratio)\n",
    "        val_count = int(len(images) * val_ratio)\n",
    "\n",
    "        sets = {\n",
    "            \"train\": images[:train_count],\n",
    "            \"val\": images[train_count:train_count + val_count],\n",
    "            \"test\": images[train_count + val_count:]\n",
    "        }\n",
    "\n",
    "        for split, files in sets.items():\n",
    "            for file in files:\n",
    "                shutil.copy(file, processed_dataset / split / category / file.name)\n",
    "\n",
    "split_and_copy()\n",
    "print(\"Dataset restructured successfully!\")"
   ],
   "outputs": [
    {
     "name": "stdout",
     "output_type": "stream",
     "text": [
      "Dataset restructured successfully!\n"
     ]
    }
   ],
   "execution_count": 1
  }
 ],
 "metadata": {
  "kernelspec": {
   "display_name": "Python 3",
   "language": "python",
   "name": "python3"
  },
  "language_info": {
   "codemirror_mode": {
    "name": "ipython",
    "version": 2
   },
   "file_extension": ".py",
   "mimetype": "text/x-python",
   "name": "python",
   "nbconvert_exporter": "python",
   "pygments_lexer": "ipython2",
   "version": "2.7.6"
  }
 },
 "nbformat": 4,
 "nbformat_minor": 5
}
